{
 "cells": [
  {
   "cell_type": "markdown",
   "metadata": {},
   "source": [
    "### Database works.\n",
    "In this **notebook** we have a lot of good stuff:\n",
    "* Connecting to a database\n",
    "* Creating schema, table\n",
    "* Renaming files\n",
    "* Import raster data to this table\n",
    "* Organize the table, addi"
   ]
  },
  {
   "cell_type": "code",
   "execution_count": 1,
   "metadata": {
    "collapsed": false
   },
   "outputs": [],
   "source": [
    "%load_ext sql\n",
    "import os, getpass, time\n",
    "import xuleta as xu"
   ]
  },
  {
   "cell_type": "code",
   "execution_count": 2,
   "metadata": {
    "collapsed": false
   },
   "outputs": [
    {
     "name": "stdout",
     "output_type": "stream",
     "text": [
      "Username: denis\n",
      "Enter your password: ········\n",
      "Database: drought\n"
     ]
    },
    {
     "data": {
      "text/plain": [
       "'Connected: denis@drought'"
      ]
     },
     "execution_count": 2,
     "metadata": {},
     "output_type": "execute_result"
    }
   ],
   "source": [
    "user = input(\"Username: \")\n",
    "password = getpass.getpass('Enter your password: ')\n",
    "database = input(\"Database: \")\n",
    "connection_string = \"postgresql://%s:%s@localhost/%s\" %(user,password,database)\n",
    "%sql $connection_string"
   ]
  },
  {
   "cell_type": "markdown",
   "metadata": {},
   "source": [
    "#### Renaming files using xuleta"
   ]
  },
  {
   "cell_type": "code",
   "execution_count": 4,
   "metadata": {
    "collapsed": false
   },
   "outputs": [
    {
     "name": "stdout",
     "output_type": "stream",
     "text": [
      "Done!\n"
     ]
    }
   ],
   "source": [
    "folder = \"/media/denis/seagate/MODIS/R_MYD17A2H/h13v11/Gross_PP_8Days_500m_v6/GPP\"\n",
    "xu.renamedate(folder=folder,oldf=\"%Y_%j\",newf=\"%Y-%m-%d\",wts=14)"
   ]
  },
  {
   "cell_type": "markdown",
   "metadata": {},
   "source": [
    "---\n",
    "\n",
    "---\n",
    "## Creating Schemas, tables\n",
    "**Working on MODIS TILE h11v04 Variable GPP**"
   ]
  },
  {
   "cell_type": "code",
   "execution_count": 13,
   "metadata": {
    "collapsed": false
   },
   "outputs": [
    {
     "name": "stdout",
     "output_type": "stream",
     "text": [
      "Done.\n",
      "Done.\n",
      "Done.\n",
      "Done.\n"
     ]
    },
    {
     "data": {
      "text/plain": [
       "[]"
      ]
     },
     "execution_count": 13,
     "metadata": {},
     "output_type": "execute_result"
    }
   ],
   "source": [
    "%%sql CREATE SCHEMA modis10v04;\n",
    "CREATE SCHEMA modis11v04;\n",
    "CREATE SCHEMA modis12v10;\n",
    "CREATE SCHEMA modis13v11;"
   ]
  },
  {
   "cell_type": "code",
   "execution_count": 14,
   "metadata": {
    "collapsed": false
   },
   "outputs": [
    {
     "name": "stdout",
     "output_type": "stream",
     "text": [
      "Done.\n",
      "Done.\n",
      "Done.\n",
      "Done.\n",
      "Done.\n",
      "Done.\n",
      "Done.\n",
      "Done.\n",
      "Done.\n",
      "Done.\n",
      "Done.\n",
      "Done.\n",
      "CPU times: user 36 ms, sys: 0 ns, total: 36 ms\n",
      "Wall time: 561 ms\n"
     ]
    },
    {
     "data": {
      "text/plain": [
       "[]"
      ]
     },
     "execution_count": 14,
     "metadata": {},
     "output_type": "execute_result"
    }
   ],
   "source": [
    "%%time\n",
    "%%sql \n",
    "\n",
    "CREATE TABLE modis10v04.gpp(\n",
    "        rid serial NOT NULL,\n",
    "        rast raster,\n",
    "        filename text,\n",
    "        acquisition_range daterange,\n",
    "        CONSTRAINT modis10v04_gpp_pkey\n",
    "        PRIMARY KEY (rid));\n",
    "        CREATE INDEX modis10v04_gpp_wkb_rast_idx\n",
    "        ON modis10v04.gpp\n",
    "        USING GIST (ST_ConvexHull(rast));\n",
    "        COMMENT ON TABLE modis10v04.gpp\n",
    "        IS 'Table that stores values of GPP - 8day for tile h10v04.';\n",
    "\n",
    "CREATE TABLE modis11v04.gpp(\n",
    "        rid serial NOT NULL,\n",
    "        rast raster,\n",
    "        filename text,\n",
    "        acquisition_range daterange,\n",
    "        CONSTRAINT modis11v04_gpp_pkey\n",
    "        PRIMARY KEY (rid));\n",
    "        CREATE INDEX modis11v04_gpp_wkb_rast_idx\n",
    "        ON modis11v04.gpp\n",
    "        USING GIST (ST_ConvexHull(rast));\n",
    "        COMMENT ON TABLE modis11v04.gpp\n",
    "        IS 'Table that stores values of GPP - 8day for tile h11v04.';\n",
    "\n",
    "\n",
    "CREATE TABLE modis12v10.gpp(\n",
    "        rid serial NOT NULL,\n",
    "        rast raster,\n",
    "        filename text,\n",
    "        acquisition_range daterange,\n",
    "        CONSTRAINT modis12v10_gpp_pkey\n",
    "        PRIMARY KEY (rid));\n",
    "        CREATE INDEX modis12v10_gpp_wkb_rast_idx\n",
    "        ON modis12v10.gpp\n",
    "        USING GIST (ST_ConvexHull(rast));\n",
    "        COMMENT ON TABLE modis12v10.gpp\n",
    "        IS 'Table that stores values of GPP - 8day for tile h12v10.';\n",
    "\n",
    "CREATE TABLE modis13v11.gpp(\n",
    "        rid serial NOT NULL,\n",
    "        rast raster,\n",
    "        filename text,\n",
    "        acquisition_range daterange,\n",
    "        CONSTRAINT modis13v11_gpp_pkey\n",
    "        PRIMARY KEY (rid));\n",
    "        CREATE INDEX modis13v11_gpp_wkb_rast_idx\n",
    "        ON modis13v11.gpp\n",
    "        USING GIST (ST_ConvexHull(rast));\n",
    "        COMMENT ON TABLE modis13v11.gpp\n",
    "        IS 'Table that stores values of GPP - 8day for tile h13v11.';"
   ]
  },
  {
   "cell_type": "markdown",
   "metadata": {},
   "source": [
    "### Importing images to the database\n",
    "Make sure the schema.table matches the images I'm importing.\n",
    "\n",
    "You can watch the verbose in the terminal to make sure that things are going ok."
   ]
  },
  {
   "cell_type": "code",
   "execution_count": null,
   "metadata": {
    "collapsed": false
   },
   "outputs": [],
   "source": [
    "t0 = time.time()\n",
    "#10v04\n",
    "imfolder = \"/media/denis/seagate/MODIS/R_MYD17A2H/h10v04/Gross_PP_8Days_500m_v6/GPP/\"\n",
    "os.system(\"raster2pgsql -a -C -F -M -s 4326 -t 200x200 -N 32767 \"+imfolder+\n",
    "          \"*.tif modis10v04.gpp | psql -p 5432 -d drought -U denis\")\n",
    "\n",
    "#11v04\n",
    "imfolder = \"/media/denis/seagate/MODIS/R_MYD17A2H/h11v04/Gross_PP_8Days_500m_v6/GPP/\"\n",
    "os.system(\"raster2pgsql -a -C -F -M -s 4326 -t 200x200 -N 32767 \"+imfolder+\n",
    "          \"*.tif modis11v04.gpp | psql -p 5432 -d drought -U denis\")\n",
    "\n",
    "#12v10\n",
    "imfolder = \"/media/denis/seagate/MODIS/R_MYD17A2H/h12v10/Gross_PP_8Days_500m_v6/GPP/\"\n",
    "os.system(\"raster2pgsql -a -C -F -M -s 4326 -t 200x200 -N 32767 \"+imfolder+\n",
    "          \"*.tif modis12v10.gpp | psql -p 5432 -d drought -U denis\")\n",
    "\n",
    "#13v11\n",
    "imfolder = \"/media/denis/seagate/MODIS/R_MYD17A2H/h13v11/Gross_PP_8Days_500m_v6/GPP/\"\n",
    "os.system(\"raster2pgsql -a -C -F -M -s 4326 -t 200x200 -N 32767 \"+imfolder+\n",
    "          \"*.tif modis13v11.gpp | psql -p 5432 -d drought -U denis\")\n",
    "\n",
    "taime = time.time() - t0\n",
    "xu.shemale(taime/60)"
   ]
  },
  {
   "cell_type": "markdown",
   "metadata": {},
   "source": [
    "You can confirm that the raster was properly loaded with all its attributes by looking at the raster_columns view, which stores raster metadata (here, you only retrieve the table’s schema, name, SRID and NoData value, but it is a good practice to examine all information stored in this view)"
   ]
  },
  {
   "cell_type": "markdown",
   "metadata": {},
   "source": [
    "In the case of more complex filenames with a variable number of characters, you could still retrieve the encoded date using the substring function, by extracting the relevant characters relative to some other characters found first using the position function. Let us now update the table by converting the filenames into the date ranges according to the convention used in file naming (note that there is an\n",
    "additional constraint that selects 1 January when the start date ? 16 days exceeds the beginning of the year):\n",
    "### atente para o 8 ou 16 dias"
   ]
  },
  {
   "cell_type": "code",
   "execution_count": 4,
   "metadata": {
    "collapsed": false
   },
   "outputs": [
    {
     "name": "stdout",
     "output_type": "stream",
     "text": [
      "134640 rows affected.\n",
      "CPU times: user 12 ms, sys: 4 ms, total: 16 ms\n",
      "Wall time: 5min\n"
     ]
    },
    {
     "data": {
      "text/plain": [
       "[]"
      ]
     },
     "execution_count": 4,
     "metadata": {},
     "output_type": "execute_result"
    }
   ],
   "source": [
    "%%time\n",
    "%%sql    UPDATE modis10v04.gpp\n",
    "    SET acquisition_range = daterange(\n",
    "    (substring(filename FROM 1 FOR 4) || '-' ||\n",
    "    substring(filename FROM 6 FOR 2) || '-' ||\n",
    "    substring(filename FROM 9 FOR 2))::date,\n",
    "    LEAST((substring(filename FROM 1 FOR 4) || '-' ||\n",
    "    substring(filename FROM 6 FOR 2) || '-' ||\n",
    "    substring(filename FROM 9 FOR 2))::date + 8,\n",
    "    (substring(filename FROM 1 FOR 4)::integer + 1\n",
    "    || '-' || '01' || '-' || '01')::date));\n",
    "    \n",
    "UPDATE modis11v04.gpp\n",
    "    SET acquisition_range = daterange(\n",
    "    (substring(filename FROM 1 FOR 4) || '-' ||\n",
    "    substring(filename FROM 6 FOR 2) || '-' ||\n",
    "    substring(filename FROM 9 FOR 2))::date,\n",
    "    LEAST((substring(filename FROM 1 FOR 4) || '-' ||\n",
    "    substring(filename FROM 6 FOR 2) || '-' ||\n",
    "    substring(filename FROM 9 FOR 2))::date + 8,\n",
    "    (substring(filename FROM 1 FOR 4)::integer + 1\n",
    "    || '-' || '01' || '-' || '01')::date));\n",
    "    \n",
    "UPDATE modis12v10.gpp\n",
    "    SET acquisition_range = daterange(\n",
    "    (substring(filename FROM 1 FOR 4) || '-' ||\n",
    "    substring(filename FROM 6 FOR 2) || '-' ||\n",
    "    substring(filename FROM 9 FOR 2))::date,\n",
    "    LEAST((substring(filename FROM 1 FOR 4) || '-' ||\n",
    "    substring(filename FROM 6 FOR 2) || '-' ||\n",
    "    substring(filename FROM 9 FOR 2))::date + 8,\n",
    "    (substring(filename FROM 1 FOR 4)::integer + 1\n",
    "    || '-' || '01' || '-' || '01')::date));\n",
    "    \n",
    "UPDATE modis13v11.gpp\n",
    "    SET acquisition_range = daterange(\n",
    "    (substring(filename FROM 1 FOR 4) || '-' ||\n",
    "    substring(filename FROM 6 FOR 2) || '-' ||\n",
    "    substring(filename FROM 9 FOR 2))::date,\n",
    "    LEAST((substring(filename FROM 1 FOR 4) || '-' ||\n",
    "    substring(filename FROM 6 FOR 2) || '-' ||\n",
    "    substring(filename FROM 9 FOR 2))::date + 8,\n",
    "    (substring(filename FROM 1 FOR 4)::integer + 1\n",
    "    || '-' || '01' || '-' || '01')::date));"
   ]
  },
  {
   "cell_type": "markdown",
   "metadata": {},
   "source": [
    "As for any type of column, if the table contains a large number of rows\n",
    "(e.g. [10,000), querying based on the acquisition_range will be faster if you first index it (you can do it even if the table is not that big, as the PostgreSQL planner will determine whether the query will be faster by using the index or not):"
   ]
  },
  {
   "cell_type": "code",
   "execution_count": 5,
   "metadata": {
    "collapsed": false
   },
   "outputs": [
    {
     "name": "stdout",
     "output_type": "stream",
     "text": [
      "Done.\n",
      "Done.\n",
      "Done.\n",
      "Done.\n",
      "CPU times: user 4 ms, sys: 12 ms, total: 16 ms\n",
      "Wall time: 2.92 s\n"
     ]
    },
    {
     "data": {
      "text/plain": [
       "[]"
      ]
     },
     "execution_count": 5,
     "metadata": {},
     "output_type": "execute_result"
    }
   ],
   "source": [
    "%%time\n",
    "%%sql     CREATE INDEX gpp_acquisition_range_idx\n",
    "    ON modis10v04.gpp (acquisition_range);\n",
    "    \n",
    "CREATE INDEX gpp_acquisition_range_idx\n",
    "    ON modis11v04.gpp (acquisition_range);\n",
    "    \n",
    "CREATE INDEX gpp_acquisition_range_idx\n",
    "    ON modis12v10.gpp (acquisition_range);\n",
    "\n",
    "    CREATE INDEX gpp_acquisition_range_idx\n",
    "    ON modis13v11.gpp (acquisition_range);"
   ]
  },
  {
   "cell_type": "markdown",
   "metadata": {},
   "source": [
    "Now, each tile (and therefore each pixel) has a spatial and a temporal component and thus can be queried according to both criteria. For instance, these are the 10 first tiles corresponding to 1 March 2008, using the ‘@[’ operator (‘contains’). Note that this is a leap year so that the corresponding period ends on 5 March:"
   ]
  }
 ],
 "metadata": {
  "kernelspec": {
   "display_name": "Python 3",
   "language": "python",
   "name": "python3"
  },
  "language_info": {
   "codemirror_mode": {
    "name": "ipython",
    "version": 3
   },
   "file_extension": ".py",
   "mimetype": "text/x-python",
   "name": "python",
   "nbconvert_exporter": "python",
   "pygments_lexer": "ipython3",
   "version": "3.5.2"
  }
 },
 "nbformat": 4,
 "nbformat_minor": 1
}
